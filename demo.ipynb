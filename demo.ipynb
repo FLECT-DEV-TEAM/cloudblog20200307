{
 "cells": [
  {
   "cell_type": "markdown",
   "metadata": {},
   "source": [
    "# Lambda Performance Evaluation"
   ]
  },
  {
   "cell_type": "markdown",
   "metadata": {},
   "source": [
    "まずはREADME.mdを見てセットアップしておく。"
   ]
  },
  {
   "cell_type": "markdown",
   "metadata": {},
   "source": [
    "## ローカル３２コアで処理した場合"
   ]
  },
  {
   "cell_type": "markdown",
   "metadata": {},
   "source": [
    "VM を32コアでたちあげて実行してください"
   ]
  },
  {
   "cell_type": "code",
   "execution_count": 1,
   "metadata": {},
   "outputs": [
    {
     "name": "stdout",
     "output_type": "stream",
     "text": [
      "80739\n",
      "creating params\n",
      " 80738starting process\n",
      "wait response\n",
      " fin task: 80730/80739wait process\n",
      "[Local Resize] done in 852 s\n"
     ]
    }
   ],
   "source": [
    "!python3 001_ImageResize_local.py"
   ]
  },
  {
   "cell_type": "markdown",
   "metadata": {},
   "source": [
    "## Lambdaを300並列で実行"
   ]
  },
  {
   "cell_type": "code",
   "execution_count": 2,
   "metadata": {},
   "outputs": [
    {
     "name": "stdout",
     "output_type": "stream",
     "text": [
      "Num of files:  80739\n",
      "creating params\n",
      " 80738starting process\n",
      "wait response\n",
      " fin task: 80730/80739wait process\n",
      "[Lambda Resize] done in 198 s\n"
     ]
    }
   ],
   "source": [
    "!python3 010_ImageResize_labmda.py"
   ]
  },
  {
   "cell_type": "code",
   "execution_count": 6,
   "metadata": {},
   "outputs": [
    {
     "data": {
      "image/png": "[encoded data removed]",
      "text/plain": [
       "<Figure size 432x288 with 1 Axes>"
      ]
     },
     "metadata": {
      "needs_background": "light"
     },
     "output_type": "display_data"
    }
   ],
   "source": [
    "import matplotlib.pyplot as plt\n",
    "plt.bar(\n",
    "    ['32 Core','Lambda1'],\n",
    "    [852,198],\n",
    "    width=0.5\n",
    "    )\n",
    "plt.title(\"Lambda Parallel Estimation\")\n",
    "plt.ylabel(\"Time\")\n",
    "plt.grid(True)\n",
    "plt.show()"
   ]
  },
  {
   "cell_type": "markdown",
   "metadata": {},
   "source": [
    "## Lambdaを300並列で実行。Lambda内部でも8並列で処理。"
   ]
  },
  {
   "cell_type": "code",
   "execution_count": 4,
   "metadata": {},
   "outputs": [
    {
     "name": "stdout",
     "output_type": "stream",
     "text": [
      "Num of files:  80739\n",
      "creating params\n",
      " 1199starting process\n",
      "wait response\n",
      " fin task: 1190/1200wait process\n",
      "[Lambda Resize 2nd] done in 103 s\n"
     ]
    }
   ],
   "source": [
    "!python3 011_ImageResize_labmda_parallel.py"
   ]
  },
  {
   "cell_type": "code",
   "execution_count": 7,
   "metadata": {},
   "outputs": [
    {
     "data": {
      "image/png": "[encoded data removed]",
      "text/plain": [
       "<Figure size 432x288 with 1 Axes>"
      ]
     },
     "metadata": {
      "needs_background": "light"
     },
     "output_type": "display_data"
    }
   ],
   "source": [
    "import matplotlib.pyplot as plt\n",
    "plt.bar(\n",
    "    ['32 Core','Lambda1', 'Lambda2'],\n",
    "    [852, 198, 103],\n",
    "    width=0.5\n",
    "    )\n",
    "plt.title(\"Lambda Parallel Estimation\")\n",
    "plt.ylabel(\"Time\")\n",
    "plt.grid(True)\n",
    "plt.show()"
   ]
  },
  {
   "cell_type": "code",
   "execution_count": null,
   "metadata": {},
   "outputs": [],
   "source": []
  },
  {
   "cell_type": "code",
   "execution_count": null,
   "metadata": {},
   "outputs": [],
   "source": []
  },
  {
   "cell_type": "code",
   "execution_count": null,
   "metadata": {},
   "outputs": [],
   "source": []
  }
 ],
 "metadata": {
  "kernelspec": {
   "display_name": "Python 3",
   "language": "python",
   "name": "python3"
  },
  "language_info": {
   "codemirror_mode": {
    "name": "ipython",
    "version": 3
   },
   "file_extension": ".py",
   "mimetype": "text/x-python",
   "name": "python",
   "nbconvert_exporter": "python",
   "pygments_lexer": "ipython3",
   "version": "3.7.3"
  }
 },
 "nbformat": 4,
 "nbformat_minor": 4
}
